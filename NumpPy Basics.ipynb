{
 "cells": [
  {
   "cell_type": "markdown",
   "id": "55d0139e",
   "metadata": {},
   "source": [
    "# NumPy Basics\n",
    "\n",
    "- Arrays, shape, size, data type\n",
    "- Initializing Different Arrays (1s, 0s, full, random, etc...)\n",
    "- Basic Mathematics (arithmetic, trigonometry, etc.)\n",
    "- Linear Algebra\n",
    "- Statistics\n",
    "- Reorganizing Arrays (reshape, vstack, hstack)\n",
    "- Load data in from a file\n",
    "- Advanced Indexing and Boolean Masking"
   ]
  },
  {
   "cell_type": "markdown",
   "id": "93953f09",
   "metadata": {},
   "source": [
    "### About NumPy\n",
    "Numpy was released in 2005 with the goal of bringing scientific computing to Python. <br>\n",
    "It was based on Numeric and Numarray packages <br>\n",
    "The strength lies its ability to work with multi-dimensional array objects. <br>\n",
    "\n",
    "It uses those to supercharge its linear algebra capabilities: <br>\n",
    "- BLAS (Basic Linear Algebra Subprograms) <br>\n",
    "- LAPACK (Linear Algebra Package)"
   ]
  },
  {
   "cell_type": "code",
   "execution_count": 2,
   "id": "3f63c055",
   "metadata": {},
   "outputs": [],
   "source": [
    "# Import numpy library\n",
    "import numpy as np"
   ]
  },
  {
   "cell_type": "markdown",
   "id": "5175d59d",
   "metadata": {},
   "source": [
    "## 1. Arrays, shape, size, data type"
   ]
  },
  {
   "cell_type": "code",
   "execution_count": 3,
   "id": "847052c7",
   "metadata": {},
   "outputs": [
    {
     "name": "stdout",
     "output_type": "stream",
     "text": [
      "[1 2 3]\n"
     ]
    }
   ],
   "source": [
    "# Create 1d array, specify the datatype 'int32' and assign it to a\n",
    "a = np.array([1,2,3], dtype='int32')\n",
    "print(a)"
   ]
  },
  {
   "cell_type": "code",
   "execution_count": 4,
   "id": "580af42c",
   "metadata": {},
   "outputs": [
    {
     "name": "stdout",
     "output_type": "stream",
     "text": [
      "[[9 7 5 9]\n",
      " [4 9 2 0]]\n"
     ]
    }
   ],
   "source": [
    "# Create 2d array and assign it to b\n",
    "b = np.array([[9, 7, 5, 9 ], [4, 9, 2, 0]])\n",
    "print(b)"
   ]
  },
  {
   "cell_type": "code",
   "execution_count": 5,
   "id": "55ae7b69",
   "metadata": {},
   "outputs": [
    {
     "data": {
      "text/plain": [
       "1"
      ]
     },
     "execution_count": 5,
     "metadata": {},
     "output_type": "execute_result"
    }
   ],
   "source": [
    "# Get dimension of a\n",
    "a.ndim"
   ]
  },
  {
   "cell_type": "code",
   "execution_count": 6,
   "id": "40924e46",
   "metadata": {},
   "outputs": [
    {
     "data": {
      "text/plain": [
       "dtype('int32')"
      ]
     },
     "execution_count": 6,
     "metadata": {},
     "output_type": "execute_result"
    }
   ],
   "source": [
    "# Get data type\n",
    "a.dtype"
   ]
  },
  {
   "cell_type": "code",
   "execution_count": 7,
   "id": "f37177f0",
   "metadata": {},
   "outputs": [
    {
     "data": {
      "text/plain": [
       "4"
      ]
     },
     "execution_count": 7,
     "metadata": {},
     "output_type": "execute_result"
    }
   ],
   "source": [
    "# Get size in bytes\n",
    "a.itemsize"
   ]
  },
  {
   "cell_type": "code",
   "execution_count": 8,
   "id": "c39f59d8",
   "metadata": {},
   "outputs": [
    {
     "data": {
      "text/plain": [
       "3"
      ]
     },
     "execution_count": 8,
     "metadata": {},
     "output_type": "execute_result"
    }
   ],
   "source": [
    "# Get total size \n",
    "a.size"
   ]
  },
  {
   "cell_type": "markdown",
   "id": "7aaa0857",
   "metadata": {},
   "source": [
    "### Accessing and changing the specific elements in 2d array"
   ]
  },
  {
   "cell_type": "code",
   "execution_count": 9,
   "id": "9ca315ca",
   "metadata": {},
   "outputs": [
    {
     "name": "stdout",
     "output_type": "stream",
     "text": [
      "[[ 1  2  3  4  5  6  7]\n",
      " [ 8  9 10 11 12 13 14]]\n"
     ]
    }
   ],
   "source": [
    "# Create 2d array and assign it to a\n",
    "a = np.array([[1,2,3,4,5,6,7], [8,9,10,11,12,13,14]])\n",
    "print(a)"
   ]
  },
  {
   "cell_type": "code",
   "execution_count": 10,
   "id": "8462044d",
   "metadata": {},
   "outputs": [
    {
     "data": {
      "text/plain": [
       "10"
      ]
     },
     "execution_count": 10,
     "metadata": {},
     "output_type": "execute_result"
    }
   ],
   "source": [
    "# Get a specific element, lets' say get 10\n",
    "a[1, 2]"
   ]
  },
  {
   "cell_type": "code",
   "execution_count": 11,
   "id": "66616831",
   "metadata": {},
   "outputs": [
    {
     "data": {
      "text/plain": [
       "array([1, 2, 3, 4, 5, 6, 7])"
      ]
     },
     "execution_count": 11,
     "metadata": {},
     "output_type": "execute_result"
    }
   ],
   "source": [
    "# Get a specific row, let's say the first row\n",
    "a[0, :]"
   ]
  },
  {
   "cell_type": "code",
   "execution_count": 12,
   "id": "0ea4007b",
   "metadata": {},
   "outputs": [
    {
     "data": {
      "text/plain": [
       "array([ 3, 10])"
      ]
     },
     "execution_count": 12,
     "metadata": {},
     "output_type": "execute_result"
    }
   ],
   "source": [
    "# Get a specific column, let's say the third column\n",
    "a[:, 2]"
   ]
  },
  {
   "cell_type": "code",
   "execution_count": 13,
   "id": "5e79500f",
   "metadata": {},
   "outputs": [
    {
     "data": {
      "text/plain": [
       "array([1, 3, 5])"
      ]
     },
     "execution_count": 13,
     "metadata": {},
     "output_type": "execute_result"
    }
   ],
   "source": [
    "# Get 1,3,5, [sub-array, start:end:stepsize]\n",
    "a[0, 0:-1:2]"
   ]
  },
  {
   "cell_type": "code",
   "execution_count": 14,
   "id": "1b49fe68",
   "metadata": {},
   "outputs": [
    {
     "name": "stdout",
     "output_type": "stream",
     "text": [
      "[[ 1  2 10  4  5  6  7]\n",
      " [ 8  9 10 11 12 13 14]]\n"
     ]
    }
   ],
   "source": [
    "# Change the element, let's change 3 to 10\n",
    "a[0, 2] = 10\n",
    "print(a)"
   ]
  },
  {
   "cell_type": "markdown",
   "id": "e1e39b80",
   "metadata": {},
   "source": [
    "### Accessing and changing the specific elements in 3d array"
   ]
  },
  {
   "cell_type": "code",
   "execution_count": 15,
   "id": "36a72119",
   "metadata": {},
   "outputs": [
    {
     "name": "stdout",
     "output_type": "stream",
     "text": [
      "[[[1 2]\n",
      "  [3 4]]\n",
      "\n",
      " [[5 6]\n",
      "  [7 8]]]\n"
     ]
    }
   ],
   "source": [
    "# Create 3d array and assign it to b\n",
    "b = np.array([[[1,2], [3,4]], [[5,6], [7,8]]])\n",
    "print(b)"
   ]
  },
  {
   "cell_type": "code",
   "execution_count": 16,
   "id": "3f3c52a4",
   "metadata": {},
   "outputs": [
    {
     "data": {
      "text/plain": [
       "4"
      ]
     },
     "execution_count": 16,
     "metadata": {},
     "output_type": "execute_result"
    }
   ],
   "source": [
    "# Get specific element, let's get 4\n",
    "b[0, 1, 1]"
   ]
  },
  {
   "cell_type": "markdown",
   "id": "282cae22",
   "metadata": {},
   "source": [
    "##  2. Initializing Different Arrays (1s, 0s, full, random, etc...)"
   ]
  },
  {
   "cell_type": "code",
   "execution_count": 17,
   "id": "d449a50b",
   "metadata": {},
   "outputs": [
    {
     "data": {
      "text/plain": [
       "array([[0., 0., 0.],\n",
       "       [0., 0., 0.]])"
      ]
     },
     "execution_count": 17,
     "metadata": {},
     "output_type": "execute_result"
    }
   ],
   "source": [
    "# All 0s matrix 2 by 3\n",
    "np.zeros([2, 3])"
   ]
  },
  {
   "cell_type": "code",
   "execution_count": 18,
   "id": "da18b93b",
   "metadata": {},
   "outputs": [
    {
     "data": {
      "text/plain": [
       "array([1., 1., 1., 1., 1.])"
      ]
     },
     "execution_count": 18,
     "metadata": {},
     "output_type": "execute_result"
    }
   ],
   "source": [
    "# All 1s matrix\n",
    "np.ones(5)"
   ]
  },
  {
   "cell_type": "code",
   "execution_count": 19,
   "id": "c73ea56f",
   "metadata": {},
   "outputs": [
    {
     "data": {
      "text/plain": [
       "array([[0.55335171, 0.67890855],\n",
       "       [0.58494951, 0.47958742],\n",
       "       [0.71486761, 0.28819607],\n",
       "       [0.41715395, 0.62535582],\n",
       "       [0.31396954, 0.15844067]])"
      ]
     },
     "execution_count": 19,
     "metadata": {},
     "output_type": "execute_result"
    }
   ],
   "source": [
    "# Random numbers between 0-1\n",
    "np.random.rand(5, 2)"
   ]
  },
  {
   "cell_type": "code",
   "execution_count": 20,
   "id": "f2264376",
   "metadata": {},
   "outputs": [
    {
     "data": {
      "text/plain": [
       "array([[0, 0, 1],\n",
       "       [0, 0, 1],\n",
       "       [2, 2, 0]])"
      ]
     },
     "execution_count": 20,
     "metadata": {},
     "output_type": "execute_result"
    }
   ],
   "source": [
    "# Random integer values between 0-3 with 3 by 3\n",
    "np.random.randint(4, size=(3,3))"
   ]
  },
  {
   "cell_type": "code",
   "execution_count": 21,
   "id": "a7aa25a9",
   "metadata": {},
   "outputs": [
    {
     "data": {
      "text/plain": [
       "array([[1., 0., 0.],\n",
       "       [0., 1., 0.],\n",
       "       [0., 0., 1.]])"
      ]
     },
     "execution_count": 21,
     "metadata": {},
     "output_type": "execute_result"
    }
   ],
   "source": [
    "# Identity matrix. All the diagonal elements are 1\n",
    "np.identity(3)"
   ]
  },
  {
   "cell_type": "code",
   "execution_count": 22,
   "id": "e2aeb37a",
   "metadata": {},
   "outputs": [
    {
     "name": "stdout",
     "output_type": "stream",
     "text": [
      "[1 1 1 2 2 2 3 3 3]\n"
     ]
    }
   ],
   "source": [
    "# Repeat each element of the array 3 times\n",
    "arr = np.array([1,2,3])\n",
    "\n",
    "r1 = np.repeat(arr, 3, axis=0)\n",
    "print(r1)"
   ]
  },
  {
   "cell_type": "markdown",
   "id": "d15b077d",
   "metadata": {},
   "source": [
    "## 3. Basic Mathematics"
   ]
  },
  {
   "cell_type": "code",
   "execution_count": 23,
   "id": "99aaae87",
   "metadata": {},
   "outputs": [
    {
     "data": {
      "text/plain": [
       "array([3, 4, 5])"
      ]
     },
     "execution_count": 23,
     "metadata": {},
     "output_type": "execute_result"
    }
   ],
   "source": [
    "# Addition\n",
    "a =np.array([1,2,3])\n",
    "a + 2"
   ]
  },
  {
   "cell_type": "code",
   "execution_count": 24,
   "id": "861c189e",
   "metadata": {},
   "outputs": [
    {
     "data": {
      "text/plain": [
       "array([0, 1, 2])"
      ]
     },
     "execution_count": 24,
     "metadata": {},
     "output_type": "execute_result"
    }
   ],
   "source": [
    "# Subtraction\n",
    "a -1"
   ]
  },
  {
   "cell_type": "code",
   "execution_count": 25,
   "id": "2055ad9e",
   "metadata": {},
   "outputs": [
    {
     "data": {
      "text/plain": [
       "array([3, 6, 9])"
      ]
     },
     "execution_count": 25,
     "metadata": {},
     "output_type": "execute_result"
    }
   ],
   "source": [
    "# Multiplication\n",
    "a * 3"
   ]
  },
  {
   "cell_type": "code",
   "execution_count": 26,
   "id": "3008e362",
   "metadata": {},
   "outputs": [
    {
     "data": {
      "text/plain": [
       "array([0.5, 1. , 1.5])"
      ]
     },
     "execution_count": 26,
     "metadata": {},
     "output_type": "execute_result"
    }
   ],
   "source": [
    "# Division\n",
    "a / 2"
   ]
  },
  {
   "cell_type": "code",
   "execution_count": 27,
   "id": "e959265f",
   "metadata": {},
   "outputs": [
    {
     "data": {
      "text/plain": [
       "array([1, 4, 9])"
      ]
     },
     "execution_count": 27,
     "metadata": {},
     "output_type": "execute_result"
    }
   ],
   "source": [
    "# Exponentiation\n",
    "a ** 2"
   ]
  },
  {
   "cell_type": "code",
   "execution_count": 28,
   "id": "b473984c",
   "metadata": {},
   "outputs": [
    {
     "data": {
      "text/plain": [
       "array([1, 0, 1])"
      ]
     },
     "execution_count": 28,
     "metadata": {},
     "output_type": "execute_result"
    }
   ],
   "source": [
    "# Modulo\n",
    "a % 2"
   ]
  },
  {
   "cell_type": "code",
   "execution_count": 29,
   "id": "5f761f2b",
   "metadata": {},
   "outputs": [
    {
     "data": {
      "text/plain": [
       "array([2, 4, 6])"
      ]
     },
     "execution_count": 29,
     "metadata": {},
     "output_type": "execute_result"
    }
   ],
   "source": [
    "# Addition with other object\n",
    "b = np.array([1,2,3])\n",
    "a + b"
   ]
  },
  {
   "cell_type": "markdown",
   "id": "be05ae66",
   "metadata": {},
   "source": [
    "## 4. Linear Algebra"
   ]
  },
  {
   "cell_type": "code",
   "execution_count": 30,
   "id": "22f6e6be",
   "metadata": {},
   "outputs": [
    {
     "name": "stdout",
     "output_type": "stream",
     "text": [
      "[[1. 1. 1.]\n",
      " [1. 1. 1.]]\n",
      "[[2 2]\n",
      " [2 2]\n",
      " [2 2]]\n"
     ]
    },
    {
     "data": {
      "text/plain": [
       "array([[6., 6.],\n",
       "       [6., 6.]])"
      ]
     },
     "execution_count": 30,
     "metadata": {},
     "output_type": "execute_result"
    }
   ],
   "source": [
    "# Matrix multiplication\n",
    "a = np.ones((2,3))\n",
    "print(a)\n",
    "\n",
    "b = np.full((3,2), 2)\n",
    "print(b)\n",
    "\n",
    "np.matmul(a,b)"
   ]
  },
  {
   "cell_type": "code",
   "execution_count": 31,
   "id": "d8968306",
   "metadata": {},
   "outputs": [
    {
     "data": {
      "text/plain": [
       "1.0"
      ]
     },
     "execution_count": 31,
     "metadata": {},
     "output_type": "execute_result"
    }
   ],
   "source": [
    "# Find the determinant. The matrix is invertible (has an inverse).\n",
    "c = np.identity(3)\n",
    "np.linalg.det(c)"
   ]
  },
  {
   "cell_type": "markdown",
   "id": "051de870",
   "metadata": {},
   "source": [
    "## 5. Statistics "
   ]
  },
  {
   "cell_type": "code",
   "execution_count": 32,
   "id": "69744941",
   "metadata": {},
   "outputs": [
    {
     "data": {
      "text/plain": [
       "array([[1, 2, 3],\n",
       "       [4, 5, 6]])"
      ]
     },
     "execution_count": 32,
     "metadata": {},
     "output_type": "execute_result"
    }
   ],
   "source": [
    "# Create the array and call it stats\n",
    "stats = np.array([[1,2,3], [4,5,6]])\n",
    "stats"
   ]
  },
  {
   "cell_type": "code",
   "execution_count": 33,
   "id": "9c03dc0b",
   "metadata": {},
   "outputs": [
    {
     "data": {
      "text/plain": [
       "1"
      ]
     },
     "execution_count": 33,
     "metadata": {},
     "output_type": "execute_result"
    }
   ],
   "source": [
    "# Show minimum from the array\n",
    "np.min(stats)"
   ]
  },
  {
   "cell_type": "code",
   "execution_count": 34,
   "id": "7960a689",
   "metadata": {},
   "outputs": [
    {
     "data": {
      "text/plain": [
       "array([3, 6])"
      ]
     },
     "execution_count": 34,
     "metadata": {},
     "output_type": "execute_result"
    }
   ],
   "source": [
    "# Show maximum from the array\n",
    "np.max(stats, axis=1)"
   ]
  },
  {
   "cell_type": "code",
   "execution_count": 35,
   "id": "d213e72c",
   "metadata": {},
   "outputs": [
    {
     "data": {
      "text/plain": [
       "array([2., 5.])"
      ]
     },
     "execution_count": 35,
     "metadata": {},
     "output_type": "execute_result"
    }
   ],
   "source": [
    "# Show mean from the array\n",
    "np.mean(stats, axis=1)"
   ]
  },
  {
   "cell_type": "markdown",
   "id": "62d6ed6a",
   "metadata": {},
   "source": [
    "## 6. Reorganizing Arrays "
   ]
  },
  {
   "cell_type": "code",
   "execution_count": 36,
   "id": "f4b7be52",
   "metadata": {},
   "outputs": [
    {
     "data": {
      "text/plain": [
       "array([[[1, 2],\n",
       "        [3, 4]],\n",
       "\n",
       "       [[5, 6],\n",
       "        [7, 8]]])"
      ]
     },
     "execution_count": 36,
     "metadata": {},
     "output_type": "execute_result"
    }
   ],
   "source": [
    "# Reshape the array to 2x2x2\n",
    "before = np.array([[1,2,3,4], [5,6,7,8]])\n",
    "before\n",
    "\n",
    "after = before.reshape((2,2,2))\n",
    "after"
   ]
  },
  {
   "cell_type": "code",
   "execution_count": 37,
   "id": "21f5e329",
   "metadata": {},
   "outputs": [
    {
     "data": {
      "text/plain": [
       "array([[1, 2, 3, 4],\n",
       "       [5, 6, 7, 8],\n",
       "       [1, 2, 3, 4]])"
      ]
     },
     "execution_count": 37,
     "metadata": {},
     "output_type": "execute_result"
    }
   ],
   "source": [
    "# Vertically Stack Vectors\n",
    "v1 = np.array([1,2,3,4])\n",
    "v2 = np.array([5,6,7,8])\n",
    "\n",
    "np.vstack([v1,v2,v1])"
   ]
  },
  {
   "cell_type": "code",
   "execution_count": 40,
   "id": "2bfce637",
   "metadata": {},
   "outputs": [
    {
     "data": {
      "text/plain": [
       "array([[1., 1., 1., 1., 0., 0.],\n",
       "       [1., 1., 1., 1., 0., 0.]])"
      ]
     },
     "execution_count": 40,
     "metadata": {},
     "output_type": "execute_result"
    }
   ],
   "source": [
    "# Horizontal Stack\n",
    "h1 = np.ones((2,4))\n",
    "h2 = np.zeros((2,2))\n",
    "\n",
    "np.hstack([h1, h2])"
   ]
  },
  {
   "cell_type": "markdown",
   "id": "389ee1c7",
   "metadata": {},
   "source": [
    "## 7. Load the data from a file "
   ]
  },
  {
   "cell_type": "code",
   "execution_count": null,
   "id": "18035bb5",
   "metadata": {},
   "outputs": [],
   "source": [
    "# Load the data.txt and  change it to int32\n",
    "filedata = np.genfromtxt('data.txt', delimiter=',')\n",
    "filedata = filedata.astype('int32')\n",
    "filedata"
   ]
  },
  {
   "cell_type": "code",
   "execution_count": null,
   "id": "04d50197",
   "metadata": {},
   "outputs": [],
   "source": [
    "# Load the data from csv \n",
    "data = np.loadtxt('filename.csv', delimiter=',')\n",
    "print(data)"
   ]
  },
  {
   "cell_type": "markdown",
   "id": "f642e9f3",
   "metadata": {},
   "source": [
    "## 8. Indexing & Boolean Masking"
   ]
  },
  {
   "cell_type": "code",
   "execution_count": null,
   "id": "21f1f1cc",
   "metadata": {},
   "outputs": [],
   "source": [
    "# Check the data which are more than 50 \n",
    "filedata > 50"
   ]
  }
 ],
 "metadata": {
  "kernelspec": {
   "display_name": "Python 3 (ipykernel)",
   "language": "python",
   "name": "python3"
  },
  "language_info": {
   "codemirror_mode": {
    "name": "ipython",
    "version": 3
   },
   "file_extension": ".py",
   "mimetype": "text/x-python",
   "name": "python",
   "nbconvert_exporter": "python",
   "pygments_lexer": "ipython3",
   "version": "3.11.4"
  }
 },
 "nbformat": 4,
 "nbformat_minor": 5
}
